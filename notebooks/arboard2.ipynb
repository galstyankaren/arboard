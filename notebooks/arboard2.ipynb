{
 "cells": [
  {
   "cell_type": "markdown",
   "metadata": {},
   "source": [
    "# Model"
   ]
  },
  {
   "cell_type": "code",
   "execution_count": 1,
   "metadata": {
    "scrolled": true
   },
   "outputs": [
    {
     "name": "stdout",
     "output_type": "stream",
     "text": [
      "2.5.0\n"
     ]
    }
   ],
   "source": [
    "# %tensorflow_version 1.x\n",
    "import tensorflow as tf\n",
    "print(tf.__version__)"
   ]
  },
  {
   "cell_type": "code",
   "execution_count": 2,
   "metadata": {},
   "outputs": [],
   "source": [
    "import os\n",
    "import cv2\n",
    "import numpy as np\n",
    "import tensorflow as tf\n",
    "import sys\n",
    "import collections\n",
    "# from google.colab.patches import cv2_imshow\n",
    "\n",
    "# This is needed since the notebook is stored in the object_detection folder.\n",
    "sys.path.append(\"..\")\n",
    "\n",
    "# Import utilites\n",
    "from object_detection.utils import label_map_util\n",
    "from object_detection.utils import visualization_utils as vis_util"
   ]
  },
  {
   "cell_type": "code",
   "execution_count": 3,
   "metadata": {},
   "outputs": [],
   "source": [
    "def load_image_into_numpy_array(image):\n",
    "  (im_width, im_height) = image.size\n",
    "  return np.array(image.getdata()).reshape(\n",
    "      (im_height, im_width, 3)).astype(np.uint8)"
   ]
  },
  {
   "cell_type": "code",
   "execution_count": 4,
   "metadata": {},
   "outputs": [],
   "source": [
    "# Grab path to current working directory\n",
    "CWD_PATH = os.getcwd()\n",
    "\n",
    "# Path to frozen detection graph .pb file, which contains the model that is used\n",
    "# for object detection.\n",
    "PATH_TO_CKPT = 'shoeDetection/Python inference/frozen_inference_graph.pb'\n",
    "\n",
    "# Path to label map file\n",
    "PATH_TO_LABELS = 'shoeDetection/Python inference/label_map.pbtxt'\n",
    "\n",
    "# Path to image\n",
    "PATH_TO_IMAGE_FOLDER = 'shoeDetection/Python inference/'\n",
    "\n",
    "# Number of classes the object detector can identify\n",
    "NUM_CLASSES = 1\n",
    "\n",
    "# Load the label map.\n",
    "# Label maps map indices to category names, so that when our convolution\n",
    "# network predicts `5`, we know that this corresponds to `king`.\n",
    "# Here we use internal utility functions, but anything that returns a\n",
    "# dictionary mapping integers to appropriate string labels would be fine\n",
    "category_index = label_map_util.create_category_index_from_labelmap(PATH_TO_LABELS, use_display_name=True)\n",
    "\n",
    "# Load the Tensorflow model into memory.\n",
    "detection_graph = tf.Graph()\n",
    "with detection_graph.as_default():\n",
    "    od_graph_def = tf.compat.v1.GraphDef()\n",
    "    with tf.compat.v1.gfile.GFile(PATH_TO_CKPT, 'rb') as fid:\n",
    "        serialized_graph = fid.read()\n",
    "        od_graph_def.ParseFromString(serialized_graph)\n",
    "        tf.import_graph_def(od_graph_def, name='')\n",
    "\n",
    "    sess = tf.compat.v1.Session(graph=detection_graph)\n",
    "\n",
    "# Define input and output tensors (i.e. data) for the object detection classifier\n",
    "\n",
    "# Input tensor is the image\n",
    "image_tensor = detection_graph.get_tensor_by_name('image_tensor:0')\n",
    "\n",
    "# Output tensors are the detection boxes, scores, and classes\n",
    "# Each box represents a part of the image where a particular object was detected\n",
    "detection_boxes = detection_graph.get_tensor_by_name('detection_boxes:0')\n",
    "\n",
    "# Each score represents level of confidence for each of the objects.\n",
    "# The score is shown on the result image, together with the class label.\n",
    "detection_scores = detection_graph.get_tensor_by_name('detection_scores:0')\n",
    "detection_classes = detection_graph.get_tensor_by_name('detection_classes:0')\n",
    "\n",
    "# Number of objects detected\n",
    "num_detections = detection_graph.get_tensor_by_name('num_detections:0')\n"
   ]
  },
  {
   "cell_type": "markdown",
   "metadata": {},
   "source": [
    "# Audio"
   ]
  },
  {
   "cell_type": "code",
   "execution_count": 5,
   "metadata": {
    "scrolled": false
   },
   "outputs": [],
   "source": [
    "import cv2\n",
    "import numpy as np\n",
    "import time\n",
    "import mido"
   ]
  },
  {
   "cell_type": "code",
   "execution_count": 6,
   "metadata": {
    "scrolled": true
   },
   "outputs": [],
   "source": [
    "camera_ID =0\n",
    "\n",
    "## effect description\n",
    "effects = {\n",
    "    'disortion':{\n",
    "        'x':10,\n",
    "        'y':50,\n",
    "        'w':280,\n",
    "        'h':180,\n",
    "        'isExpressive':False,\n",
    "        'effectName':\"disortion\",\n",
    "        'color':(255,255,0),\n",
    "        'state':0,\n",
    "        'control' : 70\n",
    "        \n",
    "    },\n",
    "    'delay':{\n",
    "        'x':320,\n",
    "        'y':50,\n",
    "        'w':280,\n",
    "        'h':200,\n",
    "        'isExpressive':True,\n",
    "        'effectName':\"delay\",\n",
    "        'control_x' : 71,\n",
    "        'control_y' : 72,\n",
    "        'control': 73,\n",
    "        'color':(255,0,255),\n",
    "        'state':0\n",
    "    }\n",
    "}\n",
    "\n",
    "\n",
    "## init for previous points\n",
    "\n",
    "prev_x , prev_y = (0,0)\n",
    "\n",
    "\n",
    "\n",
    "screen_w = 640\n",
    "screen_h = 480\n",
    "\n",
    "output = mido.open_output('MIDI Bus 1')"
   ]
  },
  {
   "cell_type": "code",
   "execution_count": 7,
   "metadata": {},
   "outputs": [],
   "source": [
    "prev_effects = {\n",
    "    'feedback_prev':0,\n",
    "    'delay_prev':0\n",
    "}"
   ]
  },
  {
   "cell_type": "code",
   "execution_count": 8,
   "metadata": {
    "scrolled": true
   },
   "outputs": [
    {
     "data": {
      "text/plain": [
       "['MIDI Bus 1', 'MIDI Bus 1']"
      ]
     },
     "execution_count": 8,
     "metadata": {},
     "output_type": "execute_result"
    }
   ],
   "source": [
    "mido.get_output_names()"
   ]
  },
  {
   "cell_type": "code",
   "execution_count": 9,
   "metadata": {},
   "outputs": [],
   "source": [
    "def processBoard(img,input_x, input_y):\n",
    "    for effectName, effect in effects.items():\n",
    "        processInput(effectName,effect,input_x,input_y)"
   ]
  },
  {
   "cell_type": "code",
   "execution_count": 10,
   "metadata": {},
   "outputs": [],
   "source": [
    "def checkInBoundaries(x,y,effect):\n",
    "    if  x > effect['x'] and x < effect['x'] + effect['w'] and y > effect['y'] and  y > effect['y'] and y < effect['y']+effect['h']:\n",
    "        bInBoundaries = True\n",
    "    else:\n",
    "        bInBoundaries = False\n",
    "    return bInBoundaries"
   ]
  },
  {
   "cell_type": "code",
   "execution_count": 11,
   "metadata": {},
   "outputs": [],
   "source": [
    "def processInput(effectName, effect,x,y):\n",
    "    #print(f'x coordinate is {x} , y coordinate is {y}')\n",
    "    \n",
    "    ## if the current point is in effect boundaries\n",
    "    if checkInBoundaries(x,y,effect): \n",
    "        # check if the point was in there the last frame\n",
    "        #don't switch states, check if effect is expressive \n",
    "        if checkInBoundaries(prev_x,prev_y,effect):\n",
    "            if effect['isExpressive']:\n",
    "            ## change the effect expressive values instead\n",
    "            ##TODO\n",
    "                changeExpressive(effect,x,y)\n",
    "            else:\n",
    "            ## do nothing, still in the boundaries\n",
    "                pass\n",
    "        else:\n",
    "            #increment the state\n",
    "            effect['state']= (effect['state'] +1) % 4\n",
    "            processEffect(effect)\n",
    "            print(f'effect {effectName} is in state {effect[\"state\"]} ')\n",
    "    else:\n",
    "        ## check if the point was previously in \n",
    "        if checkInBoundaries(prev_x,prev_y,effect):\n",
    "            #increment the state\n",
    "            effect['state']= (effect['state'] +1) % 4\n",
    "            processEffect(effect)\n",
    "            print(f'effect {effectName} is in state {effect[\"state\"]} ')\n",
    "        else:\n",
    "        ## nothing changed\n",
    "            pass"
   ]
  },
  {
   "cell_type": "code",
   "execution_count": 12,
   "metadata": {},
   "outputs": [],
   "source": [
    "def changeExpressive(effect,input_x,input_y):\n",
    "    message = None\n",
    "    if effect['isExpressive']:\n",
    "        if effect['effectName'] == 'delay':\n",
    "            x_adjusted = (input_x -effect['x'])/effect['w']\n",
    "            y_adjusted = (input_y -effect['y'])/effect['h']\n",
    "\n",
    "            if abs(prev_effects['delay_prev']-x_adjusted)>0.01:\n",
    "                message = mido.Message('control_change',control=effect['control_x'],value=int(x_adjusted * 127))\n",
    "                prev_effects['delay_prev']=x_adjusted\n",
    "            if abs(prev_effects['feedback_prev']-y_adjusted)>0.01:\n",
    "                message =  mido.Message('control_change',control=effect['control_y'],value=int(127 - y_adjusted * 127))\n",
    "                prev_effects['feedback_prev']=y_adjusted\n",
    "                \n",
    "    \n",
    "    if message:\n",
    "        output.send(message)\n"
   ]
  },
  {
   "cell_type": "code",
   "execution_count": 13,
   "metadata": {},
   "outputs": [],
   "source": [
    "def processEffect(effect,input_x=False,input_y=False):\n",
    "    message = None\n",
    "    if effect['effectName'] == 'disortion':\n",
    "        print('processing disortion')\n",
    "        if effect['state'] == 0 or effect['state'] ==3:\n",
    "            ## turn off the effect\n",
    "            message = mido.Message('control_change',control=effect['control'],value=127)\n",
    "        else:\n",
    "            message = mido.Message('control_change',control=effect['control'],value=0)\n",
    "    elif effect['effectName'] == 'delay':\n",
    "        print('processing delay')\n",
    "        if effect['state'] == 0 or effect['state'] ==3:\n",
    "            ## turn off the effect\n",
    "            message = mido.Message('control_change',control=effect['control'],value=127)\n",
    "        elif effect['state'] == 1:\n",
    "            message = mido.Message('control_change',control=effect['control'],value=0)\n",
    "            \n",
    "    if message:\n",
    "        output.send(message)\n"
   ]
  },
  {
   "cell_type": "code",
   "execution_count": 14,
   "metadata": {
    "scrolled": true
   },
   "outputs": [],
   "source": [
    "\n",
    "\n",
    "\n",
    "\n",
    "cap = cv2.VideoCapture(camera_ID)\n",
    "\n",
    "count = 0\n",
    "background=0\n"
   ]
  },
  {
   "cell_type": "code",
   "execution_count": 15,
   "metadata": {},
   "outputs": [],
   "source": [
    "def return_coordinates(boxes,width,height):\n",
    "    coordinates_list = [] \n",
    "    for box in boxes:\n",
    "        ymin, xmin, ymax, xmax = box\n",
    "        ymin = int(ymin*height)\n",
    "        ymax = int(ymax*height)\n",
    "        xmin = int(xmin*width)\n",
    "        xmax = int(xmax*width)\n",
    "        coordinates_list.append([ymin, ymax, xmin, xmax])\n",
    "\n",
    "\n",
    "    return coordinates_list"
   ]
  },
  {
   "cell_type": "code",
   "execution_count": null,
   "metadata": {},
   "outputs": [
    {
     "name": "stdout",
     "output_type": "stream",
     "text": [
      "processing disortion\n",
      "effect disortion is in state 1 \n",
      "processing disortion\n",
      "effect disortion is in state 2 \n",
      "processing disortion\n",
      "effect disortion is in state 3 \n",
      "processing disortion\n",
      "effect disortion is in state 0 \n",
      "processing disortion\n",
      "effect disortion is in state 1 \n",
      "processing disortion\n",
      "effect disortion is in state 2 \n",
      "processing delay\n",
      "effect delay is in state 1 \n",
      "processing delay\n",
      "effect delay is in state 2 \n",
      "processing delay\n",
      "effect delay is in state 3 \n",
      "processing delay\n",
      "effect delay is in state 0 \n",
      "processing delay\n",
      "effect delay is in state 1 \n",
      "processing delay\n",
      "effect delay is in state 2 \n",
      "processing delay\n",
      "effect delay is in state 3 \n",
      "processing delay\n",
      "effect delay is in state 0 \n",
      "processing disortion\n",
      "effect disortion is in state 3 \n",
      "processing disortion\n",
      "effect disortion is in state 0 \n",
      "processing disortion\n",
      "effect disortion is in state 1 \n",
      "processing disortion\n",
      "effect disortion is in state 2 \n",
      "processing delay\n",
      "effect delay is in state 1 \n",
      "processing delay\n",
      "effect delay is in state 2 \n",
      "processing disortion\n",
      "effect disortion is in state 3 \n",
      "processing disortion\n",
      "effect disortion is in state 0 \n",
      "processing disortion\n",
      "effect disortion is in state 1 \n",
      "processing disortion\n",
      "effect disortion is in state 2 \n",
      "processing disortion\n",
      "effect disortion is in state 3 \n",
      "processing disortion\n",
      "effect disortion is in state 0 \n",
      "processing disortion\n",
      "effect disortion is in state 1 \n",
      "processing disortion\n",
      "effect disortion is in state 2 \n",
      "processing delay\n",
      "effect delay is in state 3 \n",
      "processing delay\n",
      "effect delay is in state 0 \n",
      "processing delay\n",
      "effect delay is in state 1 \n",
      "processing delay\n",
      "effect delay is in state 2 \n",
      "processing delay\n",
      "effect delay is in state 3 \n"
     ]
    }
   ],
   "source": [
    "while(cap.isOpened()):\n",
    "    ret, img = cap.read()\n",
    "    if not ret:\n",
    "        break\n",
    "        \n",
    "#     img = cv2.flip(img, 0)\n",
    "\n",
    "    \n",
    "    count+=1\n",
    "    \n",
    "    img=cv2.resize(img,(screen_w,screen_h))\n",
    "    \n",
    "    image_expanded = np.expand_dims(img, axis=0)\n",
    "    \n",
    "    for effectName, effect in effects.items():\n",
    "        cv2.rectangle(img,(effect['x'],effect['y']),\n",
    "                      (effect['x']+effect['w'],effect['y']+effect['h']),effect['color'], 3)\n",
    "\n",
    "    \n",
    "    (boxes, scores, classes, num) = sess.run([detection_boxes, detection_scores, detection_classes, num_detections],feed_dict={image_tensor: image_expanded})\n",
    "    label_id_offset = 1\n",
    "    \n",
    "    \n",
    "   \n",
    "    input_x,input_y = (prev_x , prev_y)\n",
    "    area = 0\n",
    "    cv2.circle(img,(input_x,input_y), 5, (255,0,0), -1)\n",
    "\n",
    "    coordinates = return_coordinates(np.squeeze(boxes),screen_w,screen_h)\n",
    "    \n",
    "\n",
    "    highest_score_index = np.argmax(np.squeeze(scores))\n",
    "    \n",
    "    \n",
    "    if np.squeeze(scores)[highest_score_index] > 0.45:\n",
    "    \n",
    "        y_min, y_max, x_min, x_max = coordinates[highest_score_index]\n",
    "\n",
    "        x= x_min\n",
    "        y= y_min\n",
    "        h = abs(y_max -y_min)\n",
    "        w = abs(x_max - x_min)\n",
    "        input_x = int((x_max + x_min) /2)\n",
    "        input_y = y\n",
    "        cv2.circle(img,(prev_x,prev_y), 5, (255,0,0), -1)\n",
    "        cv2.rectangle(img,(x,y),(x+w,y+h),(0,0,255), 2)\n",
    "\n",
    "        ## Draw the input circle now\n",
    "        cv2.circle(img,(input_x,input_y), 10, (255,128,128), -1)\n",
    "        processBoard(img,input_x,input_y)\n",
    "\n",
    "        # keep current x,y pos for next frame\n",
    "        prev_x , prev_y = (input_x,input_y)\n",
    "    \n",
    "    cv2.imshow(\"ARBoard\",img)\n",
    "\n",
    "    k = cv2.waitKey(10)\n",
    "    if k == 27:\n",
    "        break"
   ]
  },
  {
   "cell_type": "code",
   "execution_count": null,
   "metadata": {},
   "outputs": [],
   "source": []
  },
  {
   "cell_type": "code",
   "execution_count": null,
   "metadata": {},
   "outputs": [],
   "source": []
  },
  {
   "cell_type": "code",
   "execution_count": null,
   "metadata": {},
   "outputs": [],
   "source": []
  }
 ],
 "metadata": {
  "kernelspec": {
   "display_name": "Python 3",
   "language": "python",
   "name": "python3"
  },
  "language_info": {
   "codemirror_mode": {
    "name": "ipython",
    "version": 3
   },
   "file_extension": ".py",
   "mimetype": "text/x-python",
   "name": "python",
   "nbconvert_exporter": "python",
   "pygments_lexer": "ipython3",
   "version": "3.8.8"
  }
 },
 "nbformat": 4,
 "nbformat_minor": 2
}
